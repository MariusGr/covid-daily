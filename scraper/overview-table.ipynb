{
 "cells": [
  {
   "cell_type": "code",
   "execution_count": 1,
   "metadata": {},
   "outputs": [],
   "source": [
    "import requests"
   ]
  },
  {
   "cell_type": "code",
   "execution_count": 2,
   "metadata": {},
   "outputs": [],
   "source": [
    "url = \"https://www.worldometers.info/coronavirus\""
   ]
  },
  {
   "cell_type": "code",
   "execution_count": 3,
   "metadata": {},
   "outputs": [],
   "source": [
    "req = requests.get(url)"
   ]
  },
  {
   "cell_type": "code",
   "execution_count": 4,
   "metadata": {},
   "outputs": [
    {
     "data": {
      "text/plain": [
       "<Response [200]>"
      ]
     },
     "execution_count": 4,
     "metadata": {},
     "output_type": "execute_result"
    }
   ],
   "source": [
    "req"
   ]
  },
  {
   "cell_type": "code",
   "execution_count": 5,
   "metadata": {},
   "outputs": [],
   "source": [
    "from lxml.html import fromstring"
   ]
  },
  {
   "cell_type": "code",
   "execution_count": 6,
   "metadata": {},
   "outputs": [],
   "source": [
    "root = fromstring(req.text)"
   ]
  },
  {
   "cell_type": "code",
   "execution_count": 7,
   "metadata": {},
   "outputs": [],
   "source": [
    "table = root.xpath(\".//table[@id='main_table_countries_today'][1]\")[0]"
   ]
  },
  {
   "cell_type": "code",
   "execution_count": 8,
   "metadata": {},
   "outputs": [
    {
     "data": {
      "text/plain": [
       "<Element table at 0x7efbe83a7b30>"
      ]
     },
     "execution_count": 8,
     "metadata": {},
     "output_type": "execute_result"
    }
   ],
   "source": [
    "table"
   ]
  },
  {
   "cell_type": "code",
   "execution_count": 9,
   "metadata": {},
   "outputs": [],
   "source": [
    "thead = table.xpath(\".//thead/tr/th\")"
   ]
  },
  {
   "cell_type": "code",
   "execution_count": 10,
   "metadata": {},
   "outputs": [],
   "source": [
    "def is_visible(attr):\n",
    "    if 'style' in attr.attrib:\n",
    "        style = attr.get('style')\n",
    "        if style.__contains__(\"display:none\") or style.__contains__(\"display: none\"):\n",
    "            return False\n",
    "    return True"
   ]
  },
  {
   "cell_type": "code",
   "execution_count": 11,
   "metadata": {},
   "outputs": [],
   "source": [
    "columns = list()"
   ]
  },
  {
   "cell_type": "code",
   "execution_count": 12,
   "metadata": {},
   "outputs": [],
   "source": [
    "for th in thead:\n",
    "    if is_visible(th) is True:\n",
    "        columns.append(th.text_content().replace('\\n', '').replace(u'\\xa0', u'').strip())"
   ]
  },
  {
   "cell_type": "code",
   "execution_count": 13,
   "metadata": {},
   "outputs": [
    {
     "data": {
      "text/plain": [
       "['Country,Other',\n",
       " 'TotalCases',\n",
       " 'NewCases',\n",
       " 'TotalDeaths',\n",
       " 'NewDeaths',\n",
       " 'TotalRecovered',\n",
       " 'ActiveCases',\n",
       " 'Serious,Critical',\n",
       " 'TotCases/1M pop',\n",
       " 'Deaths/1M pop',\n",
       " 'TotalTests',\n",
       " 'Tests/1M pop']"
      ]
     },
     "execution_count": 13,
     "metadata": {},
     "output_type": "execute_result"
    }
   ],
   "source": [
    "columns"
   ]
  },
  {
   "cell_type": "code",
   "execution_count": 14,
   "metadata": {},
   "outputs": [],
   "source": [
    "tbody = table.xpath(\".//tbody/tr\")"
   ]
  },
  {
   "cell_type": "code",
   "execution_count": 15,
   "metadata": {},
   "outputs": [],
   "source": [
    "tags = list()\n",
    "values = list()"
   ]
  },
  {
   "cell_type": "code",
   "execution_count": 16,
   "metadata": {},
   "outputs": [],
   "source": [
    "for tr in tbody:\n",
    "    if is_visible(tr) is True:\n",
    "        tag = tr.xpath(\".//td/a\")\n",
    "        if len(tag) > 0:\n",
    "            tags.append(tag[0].get('href').strip().replace('country/', '').replace('/', ''))\n",
    "\n",
    "        values.append([value.text_content().strip() for value in tr.xpath(\".//td\") if is_visible(value) is True])"
   ]
  },
  {
   "cell_type": "code",
   "execution_count": 17,
   "metadata": {},
   "outputs": [],
   "source": [
    "import pandas as pd"
   ]
  },
  {
   "cell_type": "code",
   "execution_count": 18,
   "metadata": {},
   "outputs": [],
   "source": [
    "data = pd.DataFrame(values, columns=columns)"
   ]
  },
  {
   "cell_type": "code",
   "execution_count": 19,
   "metadata": {},
   "outputs": [
    {
     "data": {
      "text/html": [
       "<div>\n",
       "<style scoped>\n",
       "    .dataframe tbody tr th:only-of-type {\n",
       "        vertical-align: middle;\n",
       "    }\n",
       "\n",
       "    .dataframe tbody tr th {\n",
       "        vertical-align: top;\n",
       "    }\n",
       "\n",
       "    .dataframe thead th {\n",
       "        text-align: right;\n",
       "    }\n",
       "</style>\n",
       "<table border=\"1\" class=\"dataframe\">\n",
       "  <thead>\n",
       "    <tr style=\"text-align: right;\">\n",
       "      <th></th>\n",
       "      <th>Country,Other</th>\n",
       "      <th>TotalCases</th>\n",
       "      <th>NewCases</th>\n",
       "      <th>TotalDeaths</th>\n",
       "      <th>NewDeaths</th>\n",
       "      <th>TotalRecovered</th>\n",
       "      <th>ActiveCases</th>\n",
       "      <th>Serious,Critical</th>\n",
       "      <th>TotCases/1M pop</th>\n",
       "      <th>Deaths/1M pop</th>\n",
       "      <th>TotalTests</th>\n",
       "      <th>Tests/1M pop</th>\n",
       "    </tr>\n",
       "  </thead>\n",
       "  <tbody>\n",
       "    <tr>\n",
       "      <th>0</th>\n",
       "      <td>World</td>\n",
       "      <td>3,012,389</td>\n",
       "      <td>+19,127</td>\n",
       "      <td>207,885</td>\n",
       "      <td>+970</td>\n",
       "      <td>888,073</td>\n",
       "      <td>1,916,431</td>\n",
       "      <td>57,540</td>\n",
       "      <td>386</td>\n",
       "      <td>26.7</td>\n",
       "      <td></td>\n",
       "      <td></td>\n",
       "    </tr>\n",
       "    <tr>\n",
       "      <th>1</th>\n",
       "      <td>USA</td>\n",
       "      <td>987,322</td>\n",
       "      <td>+162</td>\n",
       "      <td>55,415</td>\n",
       "      <td>+2</td>\n",
       "      <td>118,781</td>\n",
       "      <td>813,126</td>\n",
       "      <td>15,143</td>\n",
       "      <td>2,983</td>\n",
       "      <td>167</td>\n",
       "      <td>5,470,555</td>\n",
       "      <td>16,527</td>\n",
       "    </tr>\n",
       "    <tr>\n",
       "      <th>2</th>\n",
       "      <td>Spain</td>\n",
       "      <td>229,422</td>\n",
       "      <td>+2,793</td>\n",
       "      <td>23,521</td>\n",
       "      <td>+331</td>\n",
       "      <td>120,832</td>\n",
       "      <td>85,069</td>\n",
       "      <td>7,764</td>\n",
       "      <td>4,907</td>\n",
       "      <td>503</td>\n",
       "      <td>1,268,321</td>\n",
       "      <td>27,127</td>\n",
       "    </tr>\n",
       "    <tr>\n",
       "      <th>3</th>\n",
       "      <td>Italy</td>\n",
       "      <td>197,675</td>\n",
       "      <td></td>\n",
       "      <td>26,644</td>\n",
       "      <td></td>\n",
       "      <td>64,928</td>\n",
       "      <td>106,103</td>\n",
       "      <td>2,009</td>\n",
       "      <td>3,269</td>\n",
       "      <td>441</td>\n",
       "      <td>1,757,659</td>\n",
       "      <td>29,071</td>\n",
       "    </tr>\n",
       "    <tr>\n",
       "      <th>4</th>\n",
       "      <td>France</td>\n",
       "      <td>162,100</td>\n",
       "      <td></td>\n",
       "      <td>22,856</td>\n",
       "      <td></td>\n",
       "      <td>44,903</td>\n",
       "      <td>94,341</td>\n",
       "      <td>4,682</td>\n",
       "      <td>2,483</td>\n",
       "      <td>350</td>\n",
       "      <td>463,662</td>\n",
       "      <td>7,103</td>\n",
       "    </tr>\n",
       "  </tbody>\n",
       "</table>\n",
       "</div>"
      ],
      "text/plain": [
       "  Country,Other TotalCases NewCases TotalDeaths NewDeaths TotalRecovered  \\\n",
       "0         World  3,012,389  +19,127     207,885      +970        888,073   \n",
       "1           USA    987,322     +162      55,415        +2        118,781   \n",
       "2         Spain    229,422   +2,793      23,521      +331        120,832   \n",
       "3         Italy    197,675               26,644                   64,928   \n",
       "4        France    162,100               22,856                   44,903   \n",
       "\n",
       "  ActiveCases Serious,Critical TotCases/1M pop Deaths/1M pop TotalTests  \\\n",
       "0   1,916,431           57,540             386          26.7              \n",
       "1     813,126           15,143           2,983           167  5,470,555   \n",
       "2      85,069            7,764           4,907           503  1,268,321   \n",
       "3     106,103            2,009           3,269           441  1,757,659   \n",
       "4      94,341            4,682           2,483           350    463,662   \n",
       "\n",
       "  Tests/1M pop  \n",
       "0               \n",
       "1       16,527  \n",
       "2       27,127  \n",
       "3       29,071  \n",
       "4        7,103  "
      ]
     },
     "execution_count": 19,
     "metadata": {},
     "output_type": "execute_result"
    }
   ],
   "source": [
    "data.head()"
   ]
  },
  {
   "cell_type": "code",
   "execution_count": 20,
   "metadata": {},
   "outputs": [],
   "source": [
    "data.to_csv('../data/overview.csv')"
   ]
  }
 ],
 "metadata": {
  "kernelspec": {
   "display_name": "Python 3",
   "language": "python",
   "name": "python3"
  },
  "language_info": {
   "codemirror_mode": {
    "name": "ipython",
    "version": 3
   },
   "file_extension": ".py",
   "mimetype": "text/x-python",
   "name": "python",
   "nbconvert_exporter": "python",
   "pygments_lexer": "ipython3",
   "version": "3.7.6"
  }
 },
 "nbformat": 4,
 "nbformat_minor": 4
}
