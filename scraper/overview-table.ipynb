{
 "cells": [
  {
   "cell_type": "code",
   "execution_count": 21,
   "metadata": {},
   "outputs": [],
   "source": [
    "import requests"
   ]
  },
  {
   "cell_type": "code",
   "execution_count": 22,
   "metadata": {},
   "outputs": [],
   "source": [
    "url = \"https://www.worldometers.info/coronavirus\""
   ]
  },
  {
   "cell_type": "code",
   "execution_count": 23,
   "metadata": {},
   "outputs": [],
   "source": [
    "req = requests.get(url)"
   ]
  },
  {
   "cell_type": "code",
   "execution_count": 24,
   "metadata": {},
   "outputs": [
    {
     "data": {
      "text/plain": [
       "<Response [200]>"
      ]
     },
     "execution_count": 24,
     "metadata": {},
     "output_type": "execute_result"
    }
   ],
   "source": [
    "req"
   ]
  },
  {
   "cell_type": "code",
   "execution_count": 25,
   "metadata": {},
   "outputs": [],
   "source": [
    "from lxml.html import fromstring"
   ]
  },
  {
   "cell_type": "code",
   "execution_count": 26,
   "metadata": {},
   "outputs": [],
   "source": [
    "root = fromstring(req.text)"
   ]
  },
  {
   "cell_type": "code",
   "execution_count": 29,
   "metadata": {},
   "outputs": [],
   "source": [
    "table = root.xpath(\".//table[@id='main_table_countries_today'][1]\")[0]"
   ]
  },
  {
   "cell_type": "code",
   "execution_count": 30,
   "metadata": {},
   "outputs": [
    {
     "data": {
      "text/plain": [
       "<Element table at 0x7efbfcb5d688>"
      ]
     },
     "execution_count": 30,
     "metadata": {},
     "output_type": "execute_result"
    }
   ],
   "source": [
    "table"
   ]
  },
  {
   "cell_type": "code",
   "execution_count": 31,
   "metadata": {},
   "outputs": [],
   "source": [
    "thead = table.xpath(\".//thead/tr/th\")"
   ]
  },
  {
   "cell_type": "code",
   "execution_count": 32,
   "metadata": {},
   "outputs": [],
   "source": [
    "def is_visible(attr):\n",
    "    if 'style' in attr.attrib:\n",
    "        style = attr.get('style')\n",
    "        if style.__contains__(\"display:none\") or style.__contains__(\"display: none\"):\n",
    "            return False\n",
    "    return True"
   ]
  },
  {
   "cell_type": "code",
   "execution_count": 33,
   "metadata": {},
   "outputs": [],
   "source": [
    "columns = list()"
   ]
  },
  {
   "cell_type": "code",
   "execution_count": 34,
   "metadata": {},
   "outputs": [],
   "source": [
    "for th in thead:\n",
    "    if is_visible(th) is True:\n",
    "        columns.append(th.text_content().replace('\\n', '').replace(u'\\xa0', u'').strip())"
   ]
  },
  {
   "cell_type": "code",
   "execution_count": null,
   "metadata": {},
   "outputs": [],
   "source": [
    "columns"
   ]
  },
  {
   "cell_type": "code",
   "execution_count": 36,
   "metadata": {},
   "outputs": [],
   "source": [
    "tbody = table.xpath(\".//tbody/tr\")"
   ]
  },
  {
   "cell_type": "code",
   "execution_count": 37,
   "metadata": {},
   "outputs": [],
   "source": [
    "tags = list()\n",
    "values = list()"
   ]
  },
  {
   "cell_type": "code",
   "execution_count": 38,
   "metadata": {},
   "outputs": [],
   "source": [
    "for tr in tbody:\n",
    "    if is_visible(tr) is True:\n",
    "        tag = tr.xpath(\".//td/a\")\n",
    "        if len(tag) > 0:\n",
    "            tags.append(tag[0].get('href').strip().replace('country/', '').replace('/', ''))\n",
    "\n",
    "        values.append([value.text_content().strip() for value in tr.xpath(\".//td\") if is_visible(value) is True])"
   ]
  },
  {
   "cell_type": "code",
   "execution_count": 39,
   "metadata": {},
   "outputs": [
    {
     "data": {
      "text/plain": [
       "['us',\n",
       " 'spain',\n",
       " 'italy',\n",
       " 'uk',\n",
       " 'russia',\n",
       " 'france',\n",
       " 'germany',\n",
       " 'brazil',\n",
       " 'turkey',\n",
       " 'iran',\n",
       " 'canada',\n",
       " 'peru',\n",
       " 'india',\n",
       " 'belgium',\n",
       " 'netherlands',\n",
       " 'saudi-arabia',\n",
       " 'mexico',\n",
       " 'switzerland',\n",
       " 'pakistan',\n",
       " 'ecuador',\n",
       " 'portugal',\n",
       " 'chile',\n",
       " 'sweden',\n",
       " 'singapore',\n",
       " 'ireland',\n",
       " 'qatar',\n",
       " 'belarus',\n",
       " 'united-arab-emirates',\n",
       " 'israel',\n",
       " 'austria',\n",
       " 'poland',\n",
       " 'japan',\n",
       " 'romania',\n",
       " 'ukraine',\n",
       " 'bangladesh',\n",
       " 'indonesia',\n",
       " 'south-korea',\n",
       " 'philippines',\n",
       " 'colombia',\n",
       " 'denmark',\n",
       " 'serbia',\n",
       " 'dominican-republic',\n",
       " 'south-africa',\n",
       " 'egypt',\n",
       " 'panama',\n",
       " 'norway',\n",
       " 'czech-republic',\n",
       " 'kuwait',\n",
       " 'australia',\n",
       " 'malaysia',\n",
       " 'morocco',\n",
       " 'finland',\n",
       " 'argentina',\n",
       " 'algeria',\n",
       " 'kazakhstan',\n",
       " 'moldova',\n",
       " 'bahrain',\n",
       " 'ghana',\n",
       " 'nigeria',\n",
       " 'afghanistan',\n",
       " 'luxembourg',\n",
       " 'oman',\n",
       " 'armenia',\n",
       " 'hungary',\n",
       " 'thailand',\n",
       " 'greece',\n",
       " 'iraq',\n",
       " 'cameroon',\n",
       " 'bolivia',\n",
       " 'azerbaijan',\n",
       " 'uzbekistan',\n",
       " 'croatia',\n",
       " 'bosnia-and-herzegovina',\n",
       " 'guinea',\n",
       " 'bulgaria',\n",
       " 'honduras',\n",
       " 'iceland',\n",
       " 'cuba',\n",
       " 'estonia',\n",
       " 'cote-d-ivoire',\n",
       " 'senegal',\n",
       " 'macedonia',\n",
       " 'new-zealand',\n",
       " 'lithuania',\n",
       " 'slovakia',\n",
       " 'slovenia',\n",
       " 'djibouti',\n",
       " 'sudan',\n",
       " 'china-hong-kong-sar',\n",
       " 'tunisia',\n",
       " 'kyrgyzstan',\n",
       " 'somalia',\n",
       " 'mayotte',\n",
       " 'guatemala',\n",
       " 'latvia',\n",
       " 'democratic-republic-of-the-congo',\n",
       " 'cyprus',\n",
       " 'el-salvador',\n",
       " 'albania',\n",
       " 'sri-lanka',\n",
       " 'niger',\n",
       " 'lebanon',\n",
       " 'maldives',\n",
       " 'costa-rica',\n",
       " 'andorra',\n",
       " 'burkina-faso',\n",
       " 'uruguay',\n",
       " 'mali',\n",
       " 'paraguay',\n",
       " 'gabon',\n",
       " 'kenya',\n",
       " 'guinea-bissau',\n",
       " 'san-marino',\n",
       " 'georgia',\n",
       " 'tajikistan',\n",
       " 'channel-islands',\n",
       " 'jordan',\n",
       " 'tanzania',\n",
       " 'jamaica',\n",
       " 'malta',\n",
       " 'taiwan',\n",
       " 'equatorial-guinea',\n",
       " 'reunion',\n",
       " 'venezuela',\n",
       " 'state-of-palestine',\n",
       " 'mauritius',\n",
       " 'isle-of-man',\n",
       " 'montenegro',\n",
       " 'chad',\n",
       " 'sierra-leone',\n",
       " 'viet-nam',\n",
       " 'benin',\n",
       " 'rwanda',\n",
       " 'congo',\n",
       " 'zambia',\n",
       " 'ethiopia',\n",
       " 'cabo-verde',\n",
       " 'sao-tome-and-principe',\n",
       " 'liberia',\n",
       " 'madagascar',\n",
       " 'faeroe-islands',\n",
       " 'martinique',\n",
       " 'myanmar',\n",
       " 'swaziland',\n",
       " 'guadeloupe',\n",
       " 'togo',\n",
       " 'haiti',\n",
       " 'gibraltar',\n",
       " 'french-guiana',\n",
       " 'central-african-republic',\n",
       " 'brunei-darussalam',\n",
       " 'cambodia',\n",
       " 'south-sudan',\n",
       " 'bermuda',\n",
       " 'trinidad-and-tobago',\n",
       " 'uganda',\n",
       " 'nepal',\n",
       " 'aruba',\n",
       " 'guyana',\n",
       " 'monaco',\n",
       " 'bahamas',\n",
       " 'mozambique',\n",
       " 'barbados',\n",
       " 'liechtenstein',\n",
       " 'cayman-islands',\n",
       " 'sint-maarten',\n",
       " 'libya',\n",
       " 'french-polynesia',\n",
       " 'malawi',\n",
       " 'syria',\n",
       " 'china-macao-sar',\n",
       " 'angola',\n",
       " 'mongolia',\n",
       " 'saint-martin',\n",
       " 'eritrea',\n",
       " 'zimbabwe',\n",
       " 'yemen',\n",
       " 'antigua-and-barbuda',\n",
       " 'timor-leste',\n",
       " 'botswana',\n",
       " 'grenada',\n",
       " 'gambia',\n",
       " 'laos',\n",
       " 'belize',\n",
       " 'fiji',\n",
       " 'new-caledonia',\n",
       " 'saint-lucia',\n",
       " 'saint-vincent-and-the-grenadines',\n",
       " 'nicaragua',\n",
       " 'curacao',\n",
       " 'dominica',\n",
       " 'namibia',\n",
       " 'burundi',\n",
       " 'saint-kitts-and-nevis',\n",
       " 'falkland-islands-malvinas',\n",
       " 'turks-and-caicos-islands',\n",
       " 'holy-see',\n",
       " 'comoros',\n",
       " 'montserrat',\n",
       " 'greenland',\n",
       " 'seychelles',\n",
       " 'suriname',\n",
       " 'mauritania',\n",
       " 'papua-new-guinea',\n",
       " 'british-virgin-islands',\n",
       " 'bhutan',\n",
       " 'caribbean-netherlands',\n",
       " 'saint-barthelemy',\n",
       " 'western-sahara',\n",
       " 'anguilla',\n",
       " 'saint-pierre-and-miquelon',\n",
       " 'china']"
      ]
     },
     "execution_count": 39,
     "metadata": {},
     "output_type": "execute_result"
    }
   ],
   "source": [
    "tags"
   ]
  },
  {
   "cell_type": "code",
   "execution_count": 17,
   "metadata": {},
   "outputs": [],
   "source": [
    "import pandas as pd"
   ]
  },
  {
   "cell_type": "code",
   "execution_count": 18,
   "metadata": {},
   "outputs": [],
   "source": [
    "data = pd.DataFrame(values, columns=columns)"
   ]
  },
  {
   "cell_type": "code",
   "execution_count": 19,
   "metadata": {},
   "outputs": [
    {
     "data": {
      "text/html": [
       "<div>\n",
       "<style scoped>\n",
       "    .dataframe tbody tr th:only-of-type {\n",
       "        vertical-align: middle;\n",
       "    }\n",
       "\n",
       "    .dataframe tbody tr th {\n",
       "        vertical-align: top;\n",
       "    }\n",
       "\n",
       "    .dataframe thead th {\n",
       "        text-align: right;\n",
       "    }\n",
       "</style>\n",
       "<table border=\"1\" class=\"dataframe\">\n",
       "  <thead>\n",
       "    <tr style=\"text-align: right;\">\n",
       "      <th></th>\n",
       "      <th>Country,Other</th>\n",
       "      <th>TotalCases</th>\n",
       "      <th>NewCases</th>\n",
       "      <th>TotalDeaths</th>\n",
       "      <th>NewDeaths</th>\n",
       "      <th>TotalRecovered</th>\n",
       "      <th>ActiveCases</th>\n",
       "      <th>Serious,Critical</th>\n",
       "      <th>TotCases/1M pop</th>\n",
       "      <th>Deaths/1M pop</th>\n",
       "      <th>TotalTests</th>\n",
       "      <th>Tests/1M pop</th>\n",
       "    </tr>\n",
       "  </thead>\n",
       "  <tbody>\n",
       "    <tr>\n",
       "      <th>0</th>\n",
       "      <td>World</td>\n",
       "      <td>4,120,535</td>\n",
       "      <td>+22,247</td>\n",
       "      <td>280,867</td>\n",
       "      <td>+643</td>\n",
       "      <td>1,450,884</td>\n",
       "      <td>2,388,784</td>\n",
       "      <td>47,648</td>\n",
       "      <td>529</td>\n",
       "      <td>36.0</td>\n",
       "      <td></td>\n",
       "      <td></td>\n",
       "    </tr>\n",
       "    <tr>\n",
       "      <th>1</th>\n",
       "      <td>USA</td>\n",
       "      <td>1,347,318</td>\n",
       "      <td>+9</td>\n",
       "      <td>80,040</td>\n",
       "      <td>+3</td>\n",
       "      <td>238,080</td>\n",
       "      <td>1,029,198</td>\n",
       "      <td>16,816</td>\n",
       "      <td>4,070</td>\n",
       "      <td>242</td>\n",
       "      <td>8,918,345</td>\n",
       "      <td>26,943</td>\n",
       "    </tr>\n",
       "    <tr>\n",
       "      <th>2</th>\n",
       "      <td>Spain</td>\n",
       "      <td>264,663</td>\n",
       "      <td>+1,880</td>\n",
       "      <td>26,621</td>\n",
       "      <td>+143</td>\n",
       "      <td>176,439</td>\n",
       "      <td>61,603</td>\n",
       "      <td>1,741</td>\n",
       "      <td>5,661</td>\n",
       "      <td>569</td>\n",
       "      <td>2,467,761</td>\n",
       "      <td>52,781</td>\n",
       "    </tr>\n",
       "    <tr>\n",
       "      <th>3</th>\n",
       "      <td>Italy</td>\n",
       "      <td>218,268</td>\n",
       "      <td></td>\n",
       "      <td>30,395</td>\n",
       "      <td></td>\n",
       "      <td>103,031</td>\n",
       "      <td>84,842</td>\n",
       "      <td>1,034</td>\n",
       "      <td>3,610</td>\n",
       "      <td>503</td>\n",
       "      <td>2,514,234</td>\n",
       "      <td>41,584</td>\n",
       "    </tr>\n",
       "    <tr>\n",
       "      <th>4</th>\n",
       "      <td>UK</td>\n",
       "      <td>215,260</td>\n",
       "      <td></td>\n",
       "      <td>31,587</td>\n",
       "      <td></td>\n",
       "      <td>N/A</td>\n",
       "      <td>183,329</td>\n",
       "      <td>1,559</td>\n",
       "      <td>3,171</td>\n",
       "      <td>465</td>\n",
       "      <td>1,728,443</td>\n",
       "      <td>25,461</td>\n",
       "    </tr>\n",
       "  </tbody>\n",
       "</table>\n",
       "</div>"
      ],
      "text/plain": [
       "  Country,Other TotalCases NewCases TotalDeaths NewDeaths TotalRecovered  \\\n",
       "0         World  4,120,535  +22,247     280,867      +643      1,450,884   \n",
       "1           USA  1,347,318       +9      80,040        +3        238,080   \n",
       "2         Spain    264,663   +1,880      26,621      +143        176,439   \n",
       "3         Italy    218,268               30,395                  103,031   \n",
       "4            UK    215,260               31,587                      N/A   \n",
       "\n",
       "  ActiveCases Serious,Critical TotCases/1M pop Deaths/1M pop TotalTests  \\\n",
       "0   2,388,784           47,648             529          36.0              \n",
       "1   1,029,198           16,816           4,070           242  8,918,345   \n",
       "2      61,603            1,741           5,661           569  2,467,761   \n",
       "3      84,842            1,034           3,610           503  2,514,234   \n",
       "4     183,329            1,559           3,171           465  1,728,443   \n",
       "\n",
       "  Tests/1M pop  \n",
       "0               \n",
       "1       26,943  \n",
       "2       52,781  \n",
       "3       41,584  \n",
       "4       25,461  "
      ]
     },
     "execution_count": 19,
     "metadata": {},
     "output_type": "execute_result"
    }
   ],
   "source": [
    "data.head()"
   ]
  },
  {
   "cell_type": "code",
   "execution_count": 20,
   "metadata": {},
   "outputs": [],
   "source": [
    "data.to_csv('../data/overview.csv')"
   ]
  }
 ],
 "metadata": {
  "kernelspec": {
   "display_name": "Python 3",
   "language": "python",
   "name": "python3"
  },
  "language_info": {
   "codemirror_mode": {
    "name": "ipython",
    "version": 3
   },
   "file_extension": ".py",
   "mimetype": "text/x-python",
   "name": "python",
   "nbconvert_exporter": "python",
   "pygments_lexer": "ipython3",
   "version": "3.7.0"
  }
 },
 "nbformat": 4,
 "nbformat_minor": 4
}
