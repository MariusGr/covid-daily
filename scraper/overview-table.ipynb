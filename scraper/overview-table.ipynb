{
 "cells": [
  {
   "cell_type": "code",
   "execution_count": 1,
   "metadata": {},
   "outputs": [],
   "source": [
    "import requests"
   ]
  },
  {
   "cell_type": "code",
   "execution_count": 2,
   "metadata": {},
   "outputs": [],
   "source": [
    "url = \"https://www.worldometers.info/coronavirus\""
   ]
  },
  {
   "cell_type": "code",
   "execution_count": 3,
   "metadata": {},
   "outputs": [],
   "source": [
    "req = requests.get(url)"
   ]
  },
  {
   "cell_type": "code",
   "execution_count": 4,
   "metadata": {},
   "outputs": [
    {
     "data": {
      "text/plain": [
       "<Response [200]>"
      ]
     },
     "execution_count": 4,
     "metadata": {},
     "output_type": "execute_result"
    }
   ],
   "source": [
    "req"
   ]
  },
  {
   "cell_type": "code",
   "execution_count": 5,
   "metadata": {},
   "outputs": [],
   "source": [
    "from lxml.html import fromstring"
   ]
  },
  {
   "cell_type": "code",
   "execution_count": 6,
   "metadata": {},
   "outputs": [],
   "source": [
    "root = fromstring(req.text)"
   ]
  },
  {
   "cell_type": "code",
   "execution_count": 7,
   "metadata": {},
   "outputs": [],
   "source": [
    "table = root.xpath(\".//table[@id='main_table_countries_today'][1]\")[0]"
   ]
  },
  {
   "cell_type": "code",
   "execution_count": 8,
   "metadata": {},
   "outputs": [
    {
     "data": {
      "text/plain": [
       "<Element table at 0x7efbf82e89f8>"
      ]
     },
     "execution_count": 8,
     "metadata": {},
     "output_type": "execute_result"
    }
   ],
   "source": [
    "table"
   ]
  },
  {
   "cell_type": "code",
   "execution_count": 9,
   "metadata": {},
   "outputs": [],
   "source": [
    "thead = table.xpath(\".//thead/tr/th\")"
   ]
  },
  {
   "cell_type": "code",
   "execution_count": 10,
   "metadata": {},
   "outputs": [],
   "source": [
    "def is_visible(attr):\n",
    "    if 'style' in attr.attrib:\n",
    "        style = attr.get('style')\n",
    "        if style.__contains__(\"display:none\") or style.__contains__(\"display: none\"):\n",
    "            return False\n",
    "    return True"
   ]
  },
  {
   "cell_type": "code",
   "execution_count": 11,
   "metadata": {},
   "outputs": [],
   "source": [
    "columns = list()"
   ]
  },
  {
   "cell_type": "code",
   "execution_count": 12,
   "metadata": {},
   "outputs": [],
   "source": [
    "for th in thead:\n",
    "    if is_visible(th) is True:\n",
    "        columns.append(th.text_content().replace('\\n', '').replace(u'\\xa0', u'').strip())"
   ]
  },
  {
   "cell_type": "code",
   "execution_count": 13,
   "metadata": {},
   "outputs": [
    {
     "data": {
      "text/plain": [
       "['Country,Other',\n",
       " 'TotalCases',\n",
       " 'NewCases',\n",
       " 'TotalDeaths',\n",
       " 'NewDeaths',\n",
       " 'TotalRecovered',\n",
       " 'ActiveCases',\n",
       " 'Serious,Critical',\n",
       " 'TotCases/1M pop',\n",
       " 'Deaths/1M pop',\n",
       " 'TotalTests',\n",
       " 'Tests/1M pop']"
      ]
     },
     "execution_count": 13,
     "metadata": {},
     "output_type": "execute_result"
    }
   ],
   "source": [
    "columns"
   ]
  },
  {
   "cell_type": "code",
   "execution_count": 14,
   "metadata": {},
   "outputs": [],
   "source": [
    "tbody = table.xpath(\".//tbody/tr\")"
   ]
  },
  {
   "cell_type": "code",
   "execution_count": 15,
   "metadata": {},
   "outputs": [],
   "source": [
    "tags = list()\n",
    "values = list()"
   ]
  },
  {
   "cell_type": "code",
   "execution_count": 16,
   "metadata": {},
   "outputs": [],
   "source": [
    "for tr in tbody:\n",
    "    if is_visible(tr) is True:\n",
    "        tag = tr.xpath(\".//td/a\")\n",
    "        if len(tag) > 0:\n",
    "            tags.append(tag[0].get('href').strip().replace('country/', '').replace('/', ''))\n",
    "\n",
    "        values.append([value.text_content().strip() for value in tr.xpath(\".//td\") if is_visible(value) is True])"
   ]
  },
  {
   "cell_type": "code",
   "execution_count": 17,
   "metadata": {},
   "outputs": [],
   "source": [
    "import pandas as pd"
   ]
  },
  {
   "cell_type": "code",
   "execution_count": 18,
   "metadata": {},
   "outputs": [],
   "source": [
    "data = pd.DataFrame(values, columns=columns)"
   ]
  },
  {
   "cell_type": "code",
   "execution_count": 19,
   "metadata": {},
   "outputs": [
    {
     "data": {
      "text/html": [
       "<div>\n",
       "<style scoped>\n",
       "    .dataframe tbody tr th:only-of-type {\n",
       "        vertical-align: middle;\n",
       "    }\n",
       "\n",
       "    .dataframe tbody tr th {\n",
       "        vertical-align: top;\n",
       "    }\n",
       "\n",
       "    .dataframe thead th {\n",
       "        text-align: right;\n",
       "    }\n",
       "</style>\n",
       "<table border=\"1\" class=\"dataframe\">\n",
       "  <thead>\n",
       "    <tr style=\"text-align: right;\">\n",
       "      <th></th>\n",
       "      <th>Country,Other</th>\n",
       "      <th>TotalCases</th>\n",
       "      <th>NewCases</th>\n",
       "      <th>TotalDeaths</th>\n",
       "      <th>NewDeaths</th>\n",
       "      <th>TotalRecovered</th>\n",
       "      <th>ActiveCases</th>\n",
       "      <th>Serious,Critical</th>\n",
       "      <th>TotCases/1M pop</th>\n",
       "      <th>Deaths/1M pop</th>\n",
       "      <th>TotalTests</th>\n",
       "      <th>Tests/1M pop</th>\n",
       "    </tr>\n",
       "  </thead>\n",
       "  <tbody>\n",
       "    <tr>\n",
       "      <th>0</th>\n",
       "      <td>World</td>\n",
       "      <td>4,120,535</td>\n",
       "      <td>+22,247</td>\n",
       "      <td>280,867</td>\n",
       "      <td>+643</td>\n",
       "      <td>1,450,884</td>\n",
       "      <td>2,388,784</td>\n",
       "      <td>47,648</td>\n",
       "      <td>529</td>\n",
       "      <td>36.0</td>\n",
       "      <td></td>\n",
       "      <td></td>\n",
       "    </tr>\n",
       "    <tr>\n",
       "      <th>1</th>\n",
       "      <td>USA</td>\n",
       "      <td>1,347,318</td>\n",
       "      <td>+9</td>\n",
       "      <td>80,040</td>\n",
       "      <td>+3</td>\n",
       "      <td>238,080</td>\n",
       "      <td>1,029,198</td>\n",
       "      <td>16,816</td>\n",
       "      <td>4,070</td>\n",
       "      <td>242</td>\n",
       "      <td>8,918,345</td>\n",
       "      <td>26,943</td>\n",
       "    </tr>\n",
       "    <tr>\n",
       "      <th>2</th>\n",
       "      <td>Spain</td>\n",
       "      <td>264,663</td>\n",
       "      <td>+1,880</td>\n",
       "      <td>26,621</td>\n",
       "      <td>+143</td>\n",
       "      <td>176,439</td>\n",
       "      <td>61,603</td>\n",
       "      <td>1,741</td>\n",
       "      <td>5,661</td>\n",
       "      <td>569</td>\n",
       "      <td>2,467,761</td>\n",
       "      <td>52,781</td>\n",
       "    </tr>\n",
       "    <tr>\n",
       "      <th>3</th>\n",
       "      <td>Italy</td>\n",
       "      <td>218,268</td>\n",
       "      <td></td>\n",
       "      <td>30,395</td>\n",
       "      <td></td>\n",
       "      <td>103,031</td>\n",
       "      <td>84,842</td>\n",
       "      <td>1,034</td>\n",
       "      <td>3,610</td>\n",
       "      <td>503</td>\n",
       "      <td>2,514,234</td>\n",
       "      <td>41,584</td>\n",
       "    </tr>\n",
       "    <tr>\n",
       "      <th>4</th>\n",
       "      <td>UK</td>\n",
       "      <td>215,260</td>\n",
       "      <td></td>\n",
       "      <td>31,587</td>\n",
       "      <td></td>\n",
       "      <td>N/A</td>\n",
       "      <td>183,329</td>\n",
       "      <td>1,559</td>\n",
       "      <td>3,171</td>\n",
       "      <td>465</td>\n",
       "      <td>1,728,443</td>\n",
       "      <td>25,461</td>\n",
       "    </tr>\n",
       "  </tbody>\n",
       "</table>\n",
       "</div>"
      ],
      "text/plain": [
       "  Country,Other TotalCases NewCases TotalDeaths NewDeaths TotalRecovered  \\\n",
       "0         World  4,120,535  +22,247     280,867      +643      1,450,884   \n",
       "1           USA  1,347,318       +9      80,040        +3        238,080   \n",
       "2         Spain    264,663   +1,880      26,621      +143        176,439   \n",
       "3         Italy    218,268               30,395                  103,031   \n",
       "4            UK    215,260               31,587                      N/A   \n",
       "\n",
       "  ActiveCases Serious,Critical TotCases/1M pop Deaths/1M pop TotalTests  \\\n",
       "0   2,388,784           47,648             529          36.0              \n",
       "1   1,029,198           16,816           4,070           242  8,918,345   \n",
       "2      61,603            1,741           5,661           569  2,467,761   \n",
       "3      84,842            1,034           3,610           503  2,514,234   \n",
       "4     183,329            1,559           3,171           465  1,728,443   \n",
       "\n",
       "  Tests/1M pop  \n",
       "0               \n",
       "1       26,943  \n",
       "2       52,781  \n",
       "3       41,584  \n",
       "4       25,461  "
      ]
     },
     "execution_count": 19,
     "metadata": {},
     "output_type": "execute_result"
    }
   ],
   "source": [
    "data.head()"
   ]
  },
  {
   "cell_type": "code",
   "execution_count": 20,
   "metadata": {},
   "outputs": [],
   "source": [
    "data.to_csv('../data/overview.csv')"
   ]
  }
 ],
 "metadata": {
  "kernelspec": {
   "display_name": "Python 3",
   "language": "python",
   "name": "python3"
  },
  "language_info": {
   "codemirror_mode": {
    "name": "ipython",
    "version": 3
   },
   "file_extension": ".py",
   "mimetype": "text/x-python",
   "name": "python",
   "nbconvert_exporter": "python",
   "pygments_lexer": "ipython3",
   "version": "3.7.0"
  }
 },
 "nbformat": 4,
 "nbformat_minor": 4
}
