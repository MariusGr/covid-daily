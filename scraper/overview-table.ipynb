{
 "cells": [
  {
   "cell_type": "code",
   "execution_count": 1,
   "metadata": {},
   "outputs": [],
   "source": [
    "import requests"
   ]
  },
  {
   "cell_type": "code",
   "execution_count": 2,
   "metadata": {},
   "outputs": [],
   "source": [
    "url = \"https://www.worldometers.info/coronavirus\""
   ]
  },
  {
   "cell_type": "code",
   "execution_count": 3,
   "metadata": {},
   "outputs": [],
   "source": [
    "req = requests.get(url)"
   ]
  },
  {
   "cell_type": "code",
   "execution_count": 4,
   "metadata": {},
   "outputs": [
    {
     "data": {
      "text/plain": [
       "<Response [200]>"
      ]
     },
     "execution_count": 4,
     "metadata": {},
     "output_type": "execute_result"
    }
   ],
   "source": [
    "req"
   ]
  },
  {
   "cell_type": "code",
   "execution_count": 5,
   "metadata": {},
   "outputs": [],
   "source": [
    "from lxml.html import fromstring"
   ]
  },
  {
   "cell_type": "code",
   "execution_count": 6,
   "metadata": {},
   "outputs": [],
   "source": [
    "root = fromstring(req.text)"
   ]
  },
  {
   "cell_type": "code",
   "execution_count": 7,
   "metadata": {},
   "outputs": [],
   "source": [
    "table = root.xpath(\".//table[@id='main_table_countries_today'][1]\")[0]"
   ]
  },
  {
   "cell_type": "code",
   "execution_count": 8,
   "metadata": {},
   "outputs": [
    {
     "data": {
      "text/plain": [
       "<Element table at 0x7efbe832d830>"
      ]
     },
     "execution_count": 8,
     "metadata": {},
     "output_type": "execute_result"
    }
   ],
   "source": [
    "table"
   ]
  },
  {
   "cell_type": "code",
   "execution_count": 9,
   "metadata": {},
   "outputs": [],
   "source": [
    "thead = table.xpath(\".//thead/tr/th\")"
   ]
  },
  {
   "cell_type": "code",
   "execution_count": 10,
   "metadata": {},
   "outputs": [],
   "source": [
    "def is_visible(attr):\n",
    "    if 'style' in attr.attrib:\n",
    "        style = attr.get('style')\n",
    "        if style.__contains__(\"display:none\") or style.__contains__(\"display: none\"):\n",
    "            return False\n",
    "    return True"
   ]
  },
  {
   "cell_type": "code",
   "execution_count": 11,
   "metadata": {},
   "outputs": [],
   "source": [
    "columns = list()"
   ]
  },
  {
   "cell_type": "code",
   "execution_count": 12,
   "metadata": {},
   "outputs": [],
   "source": [
    "for th in thead:\n",
    "    if is_visible(th) is True:\n",
    "        columns.append(th.text_content().replace('\\n', '').replace(u'\\xa0', u'').strip())"
   ]
  },
  {
   "cell_type": "code",
   "execution_count": 13,
   "metadata": {},
   "outputs": [
    {
     "data": {
      "text/plain": [
       "['#',\n",
       " 'Country,Other',\n",
       " 'TotalCases',\n",
       " 'NewCases',\n",
       " 'TotalDeaths',\n",
       " 'NewDeaths',\n",
       " 'TotalRecovered',\n",
       " 'NewRecovered',\n",
       " 'ActiveCases',\n",
       " 'Serious,Critical',\n",
       " 'TotCases/1M pop',\n",
       " 'Deaths/1M pop',\n",
       " 'TotalTests',\n",
       " 'Tests/1M pop',\n",
       " 'Population',\n",
       " '1 Caseevery X ppl',\n",
       " '1 Deathevery X ppl',\n",
       " '1 Testevery X ppl']"
      ]
     },
     "execution_count": 13,
     "metadata": {},
     "output_type": "execute_result"
    }
   ],
   "source": [
    "columns"
   ]
  },
  {
   "cell_type": "code",
   "execution_count": 14,
   "metadata": {},
   "outputs": [],
   "source": [
    "tbody = table.xpath(\".//tbody/tr\")"
   ]
  },
  {
   "cell_type": "code",
   "execution_count": 15,
   "metadata": {},
   "outputs": [],
   "source": [
    "tags = list()\n",
    "values = list()"
   ]
  },
  {
   "cell_type": "code",
   "execution_count": 16,
   "metadata": {},
   "outputs": [],
   "source": [
    "for tr in tbody:\n",
    "    if is_visible(tr) is True:\n",
    "        tag = tr.xpath(\".//td/a\")\n",
    "        if len(tag) > 0:\n",
    "            tags.append(tag[0].get('href').strip().replace('country/', '').replace('/', ''))\n",
    "\n",
    "        values.append([value.text_content().strip() for value in tr.xpath(\".//td\") if is_visible(value) is True])"
   ]
  },
  {
   "cell_type": "code",
   "execution_count": 17,
   "metadata": {},
   "outputs": [],
   "source": [
    "import pandas as pd"
   ]
  },
  {
   "cell_type": "code",
   "execution_count": 18,
   "metadata": {},
   "outputs": [],
   "source": [
    "data = pd.DataFrame(values, columns=columns)"
   ]
  },
  {
   "cell_type": "code",
   "execution_count": 19,
   "metadata": {},
   "outputs": [
    {
     "data": {
      "text/html": [
       "<div>\n",
       "<style scoped>\n",
       "    .dataframe tbody tr th:only-of-type {\n",
       "        vertical-align: middle;\n",
       "    }\n",
       "\n",
       "    .dataframe tbody tr th {\n",
       "        vertical-align: top;\n",
       "    }\n",
       "\n",
       "    .dataframe thead th {\n",
       "        text-align: right;\n",
       "    }\n",
       "</style>\n",
       "<table border=\"1\" class=\"dataframe\">\n",
       "  <thead>\n",
       "    <tr style=\"text-align: right;\">\n",
       "      <th></th>\n",
       "      <th>#</th>\n",
       "      <th>Country,Other</th>\n",
       "      <th>TotalCases</th>\n",
       "      <th>NewCases</th>\n",
       "      <th>TotalDeaths</th>\n",
       "      <th>NewDeaths</th>\n",
       "      <th>TotalRecovered</th>\n",
       "      <th>NewRecovered</th>\n",
       "      <th>ActiveCases</th>\n",
       "      <th>Serious,Critical</th>\n",
       "      <th>TotCases/1M pop</th>\n",
       "      <th>Deaths/1M pop</th>\n",
       "      <th>TotalTests</th>\n",
       "      <th>Tests/1M pop</th>\n",
       "      <th>Population</th>\n",
       "      <th>1 Caseevery X ppl</th>\n",
       "      <th>1 Deathevery X ppl</th>\n",
       "      <th>1 Testevery X ppl</th>\n",
       "    </tr>\n",
       "  </thead>\n",
       "  <tbody>\n",
       "    <tr>\n",
       "      <th>0</th>\n",
       "      <td></td>\n",
       "      <td>World</td>\n",
       "      <td>10,169,777</td>\n",
       "      <td>+94,662</td>\n",
       "      <td>502,809</td>\n",
       "      <td>+2,185</td>\n",
       "      <td>5,508,727</td>\n",
       "      <td>+54,179</td>\n",
       "      <td>4,158,241</td>\n",
       "      <td>57,949</td>\n",
       "      <td>1,305</td>\n",
       "      <td>64.5</td>\n",
       "      <td></td>\n",
       "      <td></td>\n",
       "      <td></td>\n",
       "      <td></td>\n",
       "      <td></td>\n",
       "      <td></td>\n",
       "    </tr>\n",
       "    <tr>\n",
       "      <th>1</th>\n",
       "      <td>1</td>\n",
       "      <td>USA</td>\n",
       "      <td>2,617,847</td>\n",
       "      <td>+21,310</td>\n",
       "      <td>128,243</td>\n",
       "      <td>+91</td>\n",
       "      <td>1,082,212</td>\n",
       "      <td>+775</td>\n",
       "      <td>1,407,392</td>\n",
       "      <td>15,832</td>\n",
       "      <td>7,909</td>\n",
       "      <td>387</td>\n",
       "      <td>32,143,196</td>\n",
       "      <td>97,113</td>\n",
       "      <td>330,986,397</td>\n",
       "      <td>126</td>\n",
       "      <td>2,581</td>\n",
       "      <td>10</td>\n",
       "    </tr>\n",
       "    <tr>\n",
       "      <th>2</th>\n",
       "      <td>2</td>\n",
       "      <td>Brazil</td>\n",
       "      <td>1,319,274</td>\n",
       "      <td>+3,333</td>\n",
       "      <td>57,149</td>\n",
       "      <td>+46</td>\n",
       "      <td>715,905</td>\n",
       "      <td></td>\n",
       "      <td>546,220</td>\n",
       "      <td>8,318</td>\n",
       "      <td>6,207</td>\n",
       "      <td>269</td>\n",
       "      <td>2,925,935</td>\n",
       "      <td>13,766</td>\n",
       "      <td>212,545,812</td>\n",
       "      <td>161</td>\n",
       "      <td>3,719</td>\n",
       "      <td>73</td>\n",
       "    </tr>\n",
       "    <tr>\n",
       "      <th>3</th>\n",
       "      <td>3</td>\n",
       "      <td>Russia</td>\n",
       "      <td>634,437</td>\n",
       "      <td>+6,791</td>\n",
       "      <td>9,073</td>\n",
       "      <td>+104</td>\n",
       "      <td>399,087</td>\n",
       "      <td>+5,735</td>\n",
       "      <td>226,277</td>\n",
       "      <td>2,300</td>\n",
       "      <td>4,347</td>\n",
       "      <td>62</td>\n",
       "      <td>19,044,954</td>\n",
       "      <td>130,504</td>\n",
       "      <td>145,934,108</td>\n",
       "      <td>230</td>\n",
       "      <td>16,084</td>\n",
       "      <td>8</td>\n",
       "    </tr>\n",
       "    <tr>\n",
       "      <th>4</th>\n",
       "      <td>4</td>\n",
       "      <td>India</td>\n",
       "      <td>548,857</td>\n",
       "      <td>+19,280</td>\n",
       "      <td>16,485</td>\n",
       "      <td>+382</td>\n",
       "      <td>321,766</td>\n",
       "      <td>+11,620</td>\n",
       "      <td>210,606</td>\n",
       "      <td>8,944</td>\n",
       "      <td>398</td>\n",
       "      <td>12</td>\n",
       "      <td>8,227,802</td>\n",
       "      <td>5,963</td>\n",
       "      <td>1,379,863,384</td>\n",
       "      <td>2,514</td>\n",
       "      <td>83,704</td>\n",
       "      <td>168</td>\n",
       "    </tr>\n",
       "  </tbody>\n",
       "</table>\n",
       "</div>"
      ],
      "text/plain": [
       "   # Country,Other  TotalCases NewCases TotalDeaths NewDeaths TotalRecovered  \\\n",
       "0            World  10,169,777  +94,662     502,809    +2,185      5,508,727   \n",
       "1  1           USA   2,617,847  +21,310     128,243       +91      1,082,212   \n",
       "2  2        Brazil   1,319,274   +3,333      57,149       +46        715,905   \n",
       "3  3        Russia     634,437   +6,791       9,073      +104        399,087   \n",
       "4  4         India     548,857  +19,280      16,485      +382        321,766   \n",
       "\n",
       "  NewRecovered ActiveCases Serious,Critical TotCases/1M pop Deaths/1M pop  \\\n",
       "0      +54,179   4,158,241           57,949           1,305          64.5   \n",
       "1         +775   1,407,392           15,832           7,909           387   \n",
       "2                  546,220            8,318           6,207           269   \n",
       "3       +5,735     226,277            2,300           4,347            62   \n",
       "4      +11,620     210,606            8,944             398            12   \n",
       "\n",
       "   TotalTests Tests/1M pop     Population 1 Caseevery X ppl  \\\n",
       "0                                                             \n",
       "1  32,143,196       97,113    330,986,397               126   \n",
       "2   2,925,935       13,766    212,545,812               161   \n",
       "3  19,044,954      130,504    145,934,108               230   \n",
       "4   8,227,802        5,963  1,379,863,384             2,514   \n",
       "\n",
       "  1 Deathevery X ppl 1 Testevery X ppl  \n",
       "0                                       \n",
       "1              2,581                10  \n",
       "2              3,719                73  \n",
       "3             16,084                 8  \n",
       "4             83,704               168  "
      ]
     },
     "execution_count": 19,
     "metadata": {},
     "output_type": "execute_result"
    }
   ],
   "source": [
    "data.head()"
   ]
  },
  {
   "cell_type": "code",
   "execution_count": 20,
   "metadata": {},
   "outputs": [],
   "source": [
    "data.to_csv('../data/overview.csv')"
   ]
  }
 ],
 "metadata": {
  "kernelspec": {
   "display_name": "Python 3",
   "language": "python",
   "name": "python3"
  },
  "language_info": {
   "codemirror_mode": {
    "name": "ipython",
    "version": 3
   },
   "file_extension": ".py",
   "mimetype": "text/x-python",
   "name": "python",
   "nbconvert_exporter": "python",
   "pygments_lexer": "ipython3",
   "version": "3.7.6"
  }
 },
 "nbformat": 4,
 "nbformat_minor": 4
}
