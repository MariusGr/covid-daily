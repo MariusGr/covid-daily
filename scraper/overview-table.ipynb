{
 "cells": [
  {
   "cell_type": "code",
   "execution_count": 1,
   "metadata": {},
   "outputs": [],
   "source": [
    "import requests"
   ]
  },
  {
   "cell_type": "code",
   "execution_count": 2,
   "metadata": {},
   "outputs": [],
   "source": [
    "url = \"https://www.worldometers.info/coronavirus\""
   ]
  },
  {
   "cell_type": "code",
   "execution_count": 3,
   "metadata": {},
   "outputs": [],
   "source": [
    "req = requests.get(url)"
   ]
  },
  {
   "cell_type": "code",
   "execution_count": 4,
   "metadata": {},
   "outputs": [
    {
     "data": {
      "text/plain": [
       "<Response [200]>"
      ]
     },
     "execution_count": 4,
     "metadata": {},
     "output_type": "execute_result"
    }
   ],
   "source": [
    "req"
   ]
  },
  {
   "cell_type": "code",
   "execution_count": 5,
   "metadata": {},
   "outputs": [],
   "source": [
    "from lxml.html import fromstring"
   ]
  },
  {
   "cell_type": "code",
   "execution_count": 6,
   "metadata": {},
   "outputs": [],
   "source": [
    "root = fromstring(req.text)"
   ]
  },
  {
   "cell_type": "code",
   "execution_count": 7,
   "metadata": {},
   "outputs": [],
   "source": [
    "table = root.xpath(\".//table[@id='main_table_countries_today'][1]\")[0]"
   ]
  },
  {
   "cell_type": "code",
   "execution_count": 8,
   "metadata": {},
   "outputs": [
    {
     "data": {
      "text/plain": [
       "<Element table at 0x7efbe838aa70>"
      ]
     },
     "execution_count": 8,
     "metadata": {},
     "output_type": "execute_result"
    }
   ],
   "source": [
    "table"
   ]
  },
  {
   "cell_type": "code",
   "execution_count": 9,
   "metadata": {},
   "outputs": [],
   "source": [
    "thead = table.xpath(\".//thead/tr/th\")"
   ]
  },
  {
   "cell_type": "code",
   "execution_count": 10,
   "metadata": {},
   "outputs": [],
   "source": [
    "def is_visible(attr):\n",
    "    if 'style' in attr.attrib:\n",
    "        style = attr.get('style')\n",
    "        if style.__contains__(\"display:none\") or style.__contains__(\"display: none\"):\n",
    "            return False\n",
    "    return True"
   ]
  },
  {
   "cell_type": "code",
   "execution_count": 11,
   "metadata": {},
   "outputs": [],
   "source": [
    "columns = list()"
   ]
  },
  {
   "cell_type": "code",
   "execution_count": 12,
   "metadata": {},
   "outputs": [],
   "source": [
    "for th in thead:\n",
    "    if is_visible(th) is True:\n",
    "        columns.append(th.text_content().replace('\\n', '').replace(u'\\xa0', u'').strip())"
   ]
  },
  {
   "cell_type": "code",
   "execution_count": 13,
   "metadata": {},
   "outputs": [
    {
     "data": {
      "text/plain": [
       "['#',\n",
       " 'Country,Other',\n",
       " 'TotalCases',\n",
       " 'NewCases',\n",
       " 'TotalDeaths',\n",
       " 'NewDeaths',\n",
       " 'TotalRecovered',\n",
       " 'ActiveCases',\n",
       " 'Serious,Critical',\n",
       " 'TotCases/1M pop',\n",
       " 'Deaths/1M pop',\n",
       " 'TotalTests',\n",
       " 'Tests/1M pop',\n",
       " 'Population']"
      ]
     },
     "execution_count": 13,
     "metadata": {},
     "output_type": "execute_result"
    }
   ],
   "source": [
    "columns"
   ]
  },
  {
   "cell_type": "code",
   "execution_count": 14,
   "metadata": {},
   "outputs": [],
   "source": [
    "tbody = table.xpath(\".//tbody/tr\")"
   ]
  },
  {
   "cell_type": "code",
   "execution_count": 15,
   "metadata": {},
   "outputs": [],
   "source": [
    "tags = list()\n",
    "values = list()"
   ]
  },
  {
   "cell_type": "code",
   "execution_count": 16,
   "metadata": {},
   "outputs": [],
   "source": [
    "for tr in tbody:\n",
    "    if is_visible(tr) is True:\n",
    "        tag = tr.xpath(\".//td/a\")\n",
    "        if len(tag) > 0:\n",
    "            tags.append(tag[0].get('href').strip().replace('country/', '').replace('/', ''))\n",
    "\n",
    "        values.append([value.text_content().strip() for value in tr.xpath(\".//td\") if is_visible(value) is True])"
   ]
  },
  {
   "cell_type": "code",
   "execution_count": 17,
   "metadata": {},
   "outputs": [],
   "source": [
    "import pandas as pd"
   ]
  },
  {
   "cell_type": "code",
   "execution_count": 18,
   "metadata": {},
   "outputs": [],
   "source": [
    "data = pd.DataFrame(values, columns=columns)"
   ]
  },
  {
   "cell_type": "code",
   "execution_count": 19,
   "metadata": {},
   "outputs": [
    {
     "data": {
      "text/html": [
       "<div>\n",
       "<style scoped>\n",
       "    .dataframe tbody tr th:only-of-type {\n",
       "        vertical-align: middle;\n",
       "    }\n",
       "\n",
       "    .dataframe tbody tr th {\n",
       "        vertical-align: top;\n",
       "    }\n",
       "\n",
       "    .dataframe thead th {\n",
       "        text-align: right;\n",
       "    }\n",
       "</style>\n",
       "<table border=\"1\" class=\"dataframe\">\n",
       "  <thead>\n",
       "    <tr style=\"text-align: right;\">\n",
       "      <th></th>\n",
       "      <th>#</th>\n",
       "      <th>Country,Other</th>\n",
       "      <th>TotalCases</th>\n",
       "      <th>NewCases</th>\n",
       "      <th>TotalDeaths</th>\n",
       "      <th>NewDeaths</th>\n",
       "      <th>TotalRecovered</th>\n",
       "      <th>ActiveCases</th>\n",
       "      <th>Serious,Critical</th>\n",
       "      <th>TotCases/1M pop</th>\n",
       "      <th>Deaths/1M pop</th>\n",
       "      <th>TotalTests</th>\n",
       "      <th>Tests/1M pop</th>\n",
       "      <th>Population</th>\n",
       "    </tr>\n",
       "  </thead>\n",
       "  <tbody>\n",
       "    <tr>\n",
       "      <th>0</th>\n",
       "      <td></td>\n",
       "      <td>World</td>\n",
       "      <td>6,091,690</td>\n",
       "      <td>+65,272</td>\n",
       "      <td>368,704</td>\n",
       "      <td>+2,282</td>\n",
       "      <td>2,698,600</td>\n",
       "      <td>3,024,386</td>\n",
       "      <td>53,549</td>\n",
       "      <td>782</td>\n",
       "      <td>47.3</td>\n",
       "      <td></td>\n",
       "      <td></td>\n",
       "      <td></td>\n",
       "    </tr>\n",
       "    <tr>\n",
       "      <th>1</th>\n",
       "      <td>1</td>\n",
       "      <td>USA</td>\n",
       "      <td>1,805,270</td>\n",
       "      <td>+11,740</td>\n",
       "      <td>104,977</td>\n",
       "      <td>+435</td>\n",
       "      <td>521,016</td>\n",
       "      <td>1,179,277</td>\n",
       "      <td>17,205</td>\n",
       "      <td>5,457</td>\n",
       "      <td>317</td>\n",
       "      <td>17,017,473</td>\n",
       "      <td>51,438</td>\n",
       "      <td>330,832,890</td>\n",
       "    </tr>\n",
       "    <tr>\n",
       "      <th>2</th>\n",
       "      <td>2</td>\n",
       "      <td>Brazil</td>\n",
       "      <td>469,510</td>\n",
       "      <td>+1,172</td>\n",
       "      <td>28,015</td>\n",
       "      <td>+71</td>\n",
       "      <td>193,181</td>\n",
       "      <td>248,314</td>\n",
       "      <td>8,318</td>\n",
       "      <td>2,210</td>\n",
       "      <td>132</td>\n",
       "      <td>930,013</td>\n",
       "      <td>4,378</td>\n",
       "      <td>212,426,274</td>\n",
       "    </tr>\n",
       "    <tr>\n",
       "      <th>3</th>\n",
       "      <td>3</td>\n",
       "      <td>Russia</td>\n",
       "      <td>396,575</td>\n",
       "      <td>+8,952</td>\n",
       "      <td>4,555</td>\n",
       "      <td>+181</td>\n",
       "      <td>167,469</td>\n",
       "      <td>224,551</td>\n",
       "      <td>2,300</td>\n",
       "      <td>2,718</td>\n",
       "      <td>31</td>\n",
       "      <td>10,316,200</td>\n",
       "      <td>70,693</td>\n",
       "      <td>145,929,167</td>\n",
       "    </tr>\n",
       "    <tr>\n",
       "      <th>4</th>\n",
       "      <td>4</td>\n",
       "      <td>Spain</td>\n",
       "      <td>286,308</td>\n",
       "      <td>+664</td>\n",
       "      <td>27,125</td>\n",
       "      <td>+4</td>\n",
       "      <td>196,958</td>\n",
       "      <td>62,225</td>\n",
       "      <td>617</td>\n",
       "      <td>6,124</td>\n",
       "      <td>580</td>\n",
       "      <td>3,556,567</td>\n",
       "      <td>76,071</td>\n",
       "      <td>46,753,246</td>\n",
       "    </tr>\n",
       "  </tbody>\n",
       "</table>\n",
       "</div>"
      ],
      "text/plain": [
       "   # Country,Other TotalCases NewCases TotalDeaths NewDeaths TotalRecovered  \\\n",
       "0            World  6,091,690  +65,272     368,704    +2,282      2,698,600   \n",
       "1  1           USA  1,805,270  +11,740     104,977      +435        521,016   \n",
       "2  2        Brazil    469,510   +1,172      28,015       +71        193,181   \n",
       "3  3        Russia    396,575   +8,952       4,555      +181        167,469   \n",
       "4  4         Spain    286,308     +664      27,125        +4        196,958   \n",
       "\n",
       "  ActiveCases Serious,Critical TotCases/1M pop Deaths/1M pop  TotalTests  \\\n",
       "0   3,024,386           53,549             782          47.3               \n",
       "1   1,179,277           17,205           5,457           317  17,017,473   \n",
       "2     248,314            8,318           2,210           132     930,013   \n",
       "3     224,551            2,300           2,718            31  10,316,200   \n",
       "4      62,225              617           6,124           580   3,556,567   \n",
       "\n",
       "  Tests/1M pop   Population  \n",
       "0                            \n",
       "1       51,438  330,832,890  \n",
       "2        4,378  212,426,274  \n",
       "3       70,693  145,929,167  \n",
       "4       76,071   46,753,246  "
      ]
     },
     "execution_count": 19,
     "metadata": {},
     "output_type": "execute_result"
    }
   ],
   "source": [
    "data.head()"
   ]
  },
  {
   "cell_type": "code",
   "execution_count": 20,
   "metadata": {},
   "outputs": [],
   "source": [
    "data.to_csv('../data/overview.csv')"
   ]
  }
 ],
 "metadata": {
  "kernelspec": {
   "display_name": "Python 3",
   "language": "python",
   "name": "python3"
  },
  "language_info": {
   "codemirror_mode": {
    "name": "ipython",
    "version": 3
   },
   "file_extension": ".py",
   "mimetype": "text/x-python",
   "name": "python",
   "nbconvert_exporter": "python",
   "pygments_lexer": "ipython3",
   "version": "3.7.6"
  }
 },
 "nbformat": 4,
 "nbformat_minor": 4
}
