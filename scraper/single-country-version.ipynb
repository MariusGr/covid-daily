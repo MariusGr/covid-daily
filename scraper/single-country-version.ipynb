{
 "cells": [
  {
   "cell_type": "code",
   "execution_count": 1,
   "metadata": {},
   "outputs": [],
   "source": [
    "import requests"
   ]
  },
  {
   "cell_type": "code",
   "execution_count": 2,
   "metadata": {},
   "outputs": [],
   "source": [
    "country = 'spain'"
   ]
  },
  {
   "cell_type": "code",
   "execution_count": 3,
   "metadata": {},
   "outputs": [],
   "source": [
    "url = f\"https://www.worldometers.info/coronavirus/country/{country}/\""
   ]
  },
  {
   "cell_type": "code",
   "execution_count": 4,
   "metadata": {},
   "outputs": [],
   "source": [
    "req = requests.get(url)"
   ]
  },
  {
   "cell_type": "code",
   "execution_count": 5,
   "metadata": {},
   "outputs": [
    {
     "data": {
      "text/plain": [
       "<Response [200]>"
      ]
     },
     "execution_count": 5,
     "metadata": {},
     "output_type": "execute_result"
    }
   ],
   "source": [
    "req"
   ]
  },
  {
   "cell_type": "code",
   "execution_count": 6,
   "metadata": {},
   "outputs": [],
   "source": [
    "from lxml.html import fromstring"
   ]
  },
  {
   "cell_type": "code",
   "execution_count": 7,
   "metadata": {},
   "outputs": [],
   "source": [
    "root = fromstring(req.text)"
   ]
  },
  {
   "cell_type": "code",
   "execution_count": 8,
   "metadata": {},
   "outputs": [],
   "source": [
    "scripts = root.xpath(\".//script\")"
   ]
  },
  {
   "cell_type": "code",
   "execution_count": 9,
   "metadata": {},
   "outputs": [],
   "source": [
    "import re"
   ]
  },
  {
   "cell_type": "code",
   "execution_count": 10,
   "metadata": {},
   "outputs": [],
   "source": [
    "lines = re.compile(r'[\\n\\t]')"
   ]
  },
  {
   "cell_type": "code",
   "execution_count": 11,
   "metadata": {},
   "outputs": [],
   "source": [
    "comments = re.compile(r'\\/\\*(.*?)\\*\\/')"
   ]
  },
  {
   "cell_type": "code",
   "execution_count": 12,
   "metadata": {},
   "outputs": [],
   "source": [
    "spaces = re.compile(r'[ ]{2,}')"
   ]
  },
  {
   "cell_type": "code",
   "execution_count": 13,
   "metadata": {},
   "outputs": [],
   "source": [
    "chart = re.compile(r'(Highcharts\\.chart\\(\\\"[a-zA-z\\-]*\\\"\\, )(.*?)(\\)\\;)')"
   ]
  },
  {
   "cell_type": "code",
   "execution_count": 14,
   "metadata": {},
   "outputs": [],
   "source": [
    "chart_title = re.compile(r'(Highcharts\\.chart\\(\\\"[a-zA-z\\-]*\\\"\\, )')"
   ]
  },
  {
   "cell_type": "code",
   "execution_count": 15,
   "metadata": {},
   "outputs": [],
   "source": [
    "chart_end = re.compile(r'\\)\\;')"
   ]
  },
  {
   "cell_type": "code",
   "execution_count": 16,
   "metadata": {},
   "outputs": [],
   "source": [
    "options = re.compile(r' [\\w]+\\: ')"
   ]
  },
  {
   "cell_type": "code",
   "execution_count": 17,
   "metadata": {},
   "outputs": [],
   "source": [
    "xaxis = re.compile(r'(\\\"xAxis\\\"\\: \\{)(.*?)(\\}\\,)')"
   ]
  },
  {
   "cell_type": "code",
   "execution_count": 18,
   "metadata": {},
   "outputs": [],
   "source": [
    "yaxis = re.compile(r'(\\\"yAxis\\\"\\: \\{ \\\"title\\\"\\: \\{ \\\"text\\\"\\: \\\")(.*?)(\\\")')"
   ]
  },
  {
   "cell_type": "code",
   "execution_count": 19,
   "metadata": {},
   "outputs": [],
   "source": [
    "series = re.compile(r'(\\\"series\\\"\\: \\[)(.*?)(\\]\\,)')"
   ]
  },
  {
   "cell_type": "code",
   "execution_count": 20,
   "metadata": {},
   "outputs": [],
   "source": [
    "import json"
   ]
  },
  {
   "cell_type": "code",
   "execution_count": 21,
   "metadata": {},
   "outputs": [],
   "source": [
    "import pandas as pd"
   ]
  },
  {
   "cell_type": "code",
   "execution_count": 22,
   "metadata": {},
   "outputs": [],
   "source": [
    "from datetime import datetime"
   ]
  },
  {
   "cell_type": "code",
   "execution_count": 23,
   "metadata": {
    "scrolled": true
   },
   "outputs": [
    {
     "name": "stdout",
     "output_type": "stream",
     "text": [
      "total-currently-infected-linear\n",
      "deaths-cured-outcome-small\n",
      "coronavirus-cases-linear\n",
      "graph-cases-daily\n",
      "graph-active-cases-total\n",
      "coronavirus-deaths-linear\n",
      "graph-deaths-daily\n",
      "cases-cured-daily\n",
      "deaths-cured-outcome\n"
     ]
    }
   ],
   "source": [
    "for script in scripts:\n",
    "    if script.text_content().strip().__contains__(\"Highcharts.chart\"):\n",
    "        value = script.text_content().strip()\n",
    "        \n",
    "        value = lines.sub('', value)\n",
    "        value = comments.sub('', value)\n",
    "        value = spaces.sub(' ', value)\n",
    "        value = value.replace('\\'', '\\\"')\n",
    "        value = chart.search(value).group(0)\n",
    "        \n",
    "        title = chart_title.search(value).group(0).replace('Highcharts.chart(\\\"', '').replace('\\\", ', '')\n",
    "        \n",
    "        print(title)\n",
    "        \n",
    "        value = chart_title.sub('', value)\n",
    "        value = chart_end.sub('', value)\n",
    "        \n",
    "        words = options.findall(value)\n",
    "        words = list(set(words))\n",
    "        \n",
    "        for word in words:\n",
    "            value = value.replace(word, ' \\\"' + word.replace(' ', '').replace(':', '') + '\\\": ')\n",
    "            \n",
    "        column = yaxis.search(value).group(0).replace('\"yAxis\": { \"title\": { \"text\": \"', '').replace('\"', '')\n",
    "\n",
    "        value = '{' + ', '.join([\n",
    "            xaxis.search(value).group(0).replace('},', '}'),\n",
    "            series.search(value).group(0).replace('],', ']'),\n",
    "        ]) + '}'\n",
    "        \n",
    "        value = json.loads(value)\n",
    "        \n",
    "        x = value['series'][0]['data']\n",
    "        \n",
    "        y = [datetime.strptime(val + ', 2020', '%b %d, %Y') for val in value['xAxis']['categories']]\n",
    "        \n",
    "        data = pd.DataFrame({'Date': y, column: x})\n",
    "        data.set_index('Date', inplace=True)\n",
    "        data.to_csv(title + '.csv')"
   ]
  }
 ],
 "metadata": {
  "kernelspec": {
   "display_name": "Python 3",
   "language": "python",
   "name": "python3"
  },
  "language_info": {
   "codemirror_mode": {
    "name": "ipython",
    "version": 3
   },
   "file_extension": ".py",
   "mimetype": "text/x-python",
   "name": "python",
   "nbconvert_exporter": "python",
   "pygments_lexer": "ipython3",
   "version": "3.7.0"
  }
 },
 "nbformat": 4,
 "nbformat_minor": 4
}
